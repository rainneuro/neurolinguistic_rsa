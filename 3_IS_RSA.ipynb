{
 "cells": [
  {
   "cell_type": "markdown",
   "metadata": {},
   "source": [
    "## Script for the IS-RSA analysis for Morbi EEG project"
   ]
  },
  {
   "cell_type": "code",
   "execution_count": null,
   "metadata": {},
   "outputs": [],
   "source": [
    "%matplotlib inline\n",
    "import os\n",
    "import mne\n",
    "from tqdm import tqdm\n",
    "import numpy as np\n",
    "import pandas as pd\n",
    "from scipy.stats import rankdata\n",
    "from joblib import Parallel, delayed\n",
    "from neurora.stuff import permutation_corr\n",
    "from mne.viz import plot_topomap\n",
    "from mne.stats import fdr_correction\n",
    "from scipy.stats import ttest_1samp, ttest_ind, ttest_rel, f_oneway\n",
    "from mne.stats import fdr_correction, f_mway_rm, permutation_cluster_test\n",
    "from scipy.spatial.distance import pdist,squareform\n",
    "import matplotlib.pyplot as plt\n",
    "import seaborn as sns\n",
    "from jupyterthemes import jtplot\n",
    "jtplot.style(theme='grade3') \n",
    "from Function import get_tril_vec, spearmanr, permutation_cor\n",
    "\n",
    "\n",
    "# define data repository\n",
    "behav_path = 'E:/Bilingual_Morphology_Project/Data/Behav/'\n",
    "eeg_path = 'E:/Bilingual_Morphology_Project/Data/EEG_prep'\n",
    "results_path = 'E:/Bilingual_Morphology_Project/Results/'\n",
    "plot_path = 'E:/Bilingual_Morphology_Project/Results/Plot'\n",
    "sub_list = list(range(5,35))\n",
    "mark_list = list(range(2,10))"
   ]
  },
  {
   "cell_type": "markdown",
   "metadata": {},
   "source": [
    "### Section 1: Baehav(LexTALE score) intersubejct similarity"
   ]
  },
  {
   "cell_type": "code",
   "execution_count": null,
   "metadata": {},
   "outputs": [],
   "source": [
    "n_subs = 30\n",
    "score = pd.read_csv(os.path.join(behav_path,'participant_profile.csv'))\n",
    "lex = score['LexTALE']\n",
    "lex_rank = rankdata(lex) # explicity convert the raw scores to ranks\n",
    "annk_lex = np.zeros((n_subs, n_subs))\n",
    "\n",
    "for i in range(n_subs):\n",
    "    for j in range(n_subs):\n",
    "        if i < j:\n",
    "            sim_ij = np.mean([lex_rank[i], lex_rank[j]])/n_subs\n",
    "            annk_lex[i,j] = sim_ij\n",
    "            annk_lex[j,i] = sim_ij\n",
    "        elif i==j:\n",
    "            annk_lex[i,j] = 1\n",
    "np.fill_diagonal(annk_lex, 1) \n",
    "# Plot the isc matrix\n",
    "mask =np.zeros_like(annk_lex)\n",
    "mask[np.triu_indices_from(mask)] = True\n",
    "plt.figure(figsize=(20,10))\n",
    "sns.heatmap(annk_lex, square=True, cmap='RdBu_r', mask=mask, linewidths=0.1,  xticklabels=False, yticklabels=False, cbar_kws={'label': 'similarity', \"shrink\": 0.8})\n",
    "plt.title('LexTALE Score Intersubject Similarity (AnnK method)', fontsize=25, fontweight='bold')\n"
   ]
  },
  {
   "cell_type": "code",
   "execution_count": null,
   "metadata": {},
   "outputs": [],
   "source": [
    "n_subs = 30\n",
    "score = pd.read_csv(os.path.join(behav_path,'participant_profile.csv'))\n",
    "lex = score['LexTALE']\n",
    "lex_rank = rankdata(lex) # explicity convert the raw scores to ranks\n",
    "nn_lex = np.zeros((n_subs, n_subs))\n",
    "\n",
    "for i in range(n_subs):\n",
    "    for j in range(n_subs):\n",
    "        if i < j:\n",
    "            dist_ij = 1-(abs(lex_rank[i]-lex_rank[j])/n_subs) \n",
    "            nn_lex[i,j] = dist_ij\n",
    "            nn_lex[j,i] = dist_ij\n",
    "            \n",
    "np.fill_diagonal(nn_lex, 1)    \n",
    "\n",
    "mask =np.zeros_like(nn_lex)\n",
    "mask[np.triu_indices_from(mask)] = True\n",
    "plt.figure(figsize=(20,10))\n",
    "sns.heatmap(nn_lex, square=True, cmap='RdBu_r', mask=mask, linewidths=0.1,  xticklabels=False, yticklabels=False, cbar_kws={'label': 'similarity', \"shrink\": 0.8})\n",
    "#plt.title('LexTALE Score Intersubject Similarity (NN method)', fontsize=25, fontweight='bold')\n",
    "#plt.savefig(os.path.join(plot_path,'lex_isc.png'),bbox_inches='tight',dpi=600,pad_inches=0.1)"
   ]
  },
  {
   "cell_type": "markdown",
   "metadata": {},
   "source": [
    "### Section 2: EEG intersubejct simialrity"
   ]
  },
  {
   "cell_type": "code",
   "execution_count": null,
   "metadata": {},
   "outputs": [],
   "source": [
    "demo = mne.read_epochs_eeglab('E:/Bilingual_Morphology_Project/Data/EEG_prep/S31_09.set')\n",
    "montage_file = 'E:/Bilingual_Morphology_Project/Scripts/morbi.loc'\n",
    "montage = mne.channels.read_custom_montage(montage_file)\n",
    "demo.set_montage(montage)\n",
    "\n",
    "eeg_meta = {}\n",
    "for sub in sub_list:\n",
    "    conditions = {}\n",
    "    for mark in mark_list:\n",
    "        tp = mne.read_epochs_eeglab(os.path.join(eeg_path, 'S' + str(sub) + '_0'+ str(mark) + '.set'))\n",
    "        tp.set_montage(montage)\n",
    "        conditions[mark] = tp\n",
    "    eeg_meta[sub] = conditions"
   ]
  },
  {
   "cell_type": "code",
   "execution_count": null,
   "metadata": {},
   "outputs": [],
   "source": [
    "# Channel indexing\n",
    "# Obtain the channel names as a list\n",
    "ch_names = eeg_meta[5][2].ch_names\n",
    "print(ch_names)\n",
    "# Crate a index list for channels\n",
    "ch_idx = list(range(31))\n",
    "# Combine the channels and index and convert to a dict\n",
    "ch_num = dict(zip(ch_names, ch_idx))\n",
    "print(ch_num['PO9'])"
   ]
  },
  {
   "cell_type": "code",
   "execution_count": null,
   "metadata": {},
   "outputs": [],
   "source": [
    "epp_meta, ecp_meta, epn_meta, ecn_meta = {}, {}, {}, {}\n",
    "for sub in sub_list:\n",
    "    epoch = eeg_meta[sub]\n",
    "    # Convert data to numpy array\n",
    "    epp = epoch[6].get_data()*10**6  # English priming condition  \n",
    "    epn = epoch[7].get_data()*10**6\n",
    "    ecp = epoch[9].get_data()*10**6  # English control condition\n",
    "    ecn = epoch[8].get_data()*10**6\n",
    "    \n",
    "    epp_meta[sub], ecp_meta[sub], epn_meta[sub], ecn_meta[sub] = epp, epn, ecp, ecn\n",
    "\n",
    "\n",
    "# ERP data structure: [n_channels, n_sub, n_times]\n",
    "epp_erp, epn_erp, ecp_erp, ecn_erp = np.zeros([31,30,500]), np.zeros([31,30,500]), np.zeros([31,30,500]), np.zeros([31,30,500])\n",
    "\n",
    "# Loop across all channels and subjects\n",
    "for ch in ch_idx:\n",
    "    for sub in sub_list:\n",
    "        epp_erp[ch,sub-5,:] = np.average(epp_meta[sub][:,ch,:], axis=0)\n",
    "        epn_erp[ch,sub-5,:] = np.average(epn_meta[sub][:,ch,:], axis=0)\n",
    "        ecp_erp[ch,sub-5,:] = np.average(ecp_meta[sub][:,ch,:], axis=0)\n",
    "        ecn_erp[ch,sub-5,:] = np.average(ecn_meta[sub][:,ch,:], axis=0)"
   ]
  },
  {
   "cell_type": "code",
   "execution_count": null,
   "metadata": {},
   "outputs": [],
   "source": [
    "# construct similarities matrice n(timepoints)*n(pairs)\n",
    "ep_erp = np.stack([epp_erp,epn_erp],axis=3).mean(axis=3)\n",
    "ec_erp = np.stack([ecp_erp,ecn_erp],axis=3).mean(axis=3)\n",
    "\n",
    "ep_simi = np.zeros((500,435))\n",
    "ec_simi = np.zeros((500,435))\n",
    "\n",
    "for i in range(500):\n",
    "    simi_1 = 1-pdist(ep_erp[:,:,i].T, metric='correlation')\n",
    "    ep_simi[i,:] = simi_1\n",
    "\n",
    "    simi_2 = 1-pdist(ec_erp[:,:,i].T, metric='correlation')\n",
    "    ec_simi[i,:] = simi_2\n"
   ]
  },
  {
   "cell_type": "code",
   "execution_count": null,
   "metadata": {},
   "outputs": [],
   "source": [
    "erp_isc = squareform(ep_simi[200,:])\n",
    "np.fill_diagonal(erp_isc, 1)    \n",
    "\n",
    "mask =np.zeros_like(erp_isc)\n",
    "mask[np.tril_indices_from(mask)] = True\n",
    "plt.figure(figsize=(20,10))\n",
    "sns.heatmap(erp_isc, square=True, cmap='RdBu_r', mask=mask, linewidths=0.1,  xticklabels=False, yticklabels=False, cbar_kws={'label': 'similarity', \"shrink\": 0.8})\n",
    "#plt.title('LexTALE Score Intersubject Similarity (NN method)', fontsize=25, fontweight='bold')\n",
    "#plt.savefig(os.path.join(plot_path,'erp_isc.png'),bbox_inches='tight',dpi=600,pad_inches=0.1)"
   ]
  },
  {
   "cell_type": "code",
   "execution_count": null,
   "metadata": {},
   "outputs": [],
   "source": [
    "# Function for plotting erp wave of single condition\n",
    "def plot_eegisc(isc, times,title):\n",
    "    ##Plotting parameters\n",
    "    plt.figure(figsize=(12,8))\n",
    "    ax = plt.axes()\n",
    "    ax.spines['top'].set_visible(False)\n",
    "    ax.spines['right'].set_visible(False)\n",
    "    ax.spines['bottom'].set_color('black')\n",
    "    ax.spines['left'].set_color('black')\n",
    "    ax.spines['bottom'].set_linewidth(3)\n",
    "    ax.spines['left'].set_linewidth(3)\n",
    "    plt.tick_params(direction='in',length=10,width=3,labelsize=20)\n",
    "    plt.xlim(-200,800)\n",
    "    plt.ylim(-0.1,0.8)\n",
    "    plt.grid()\n",
    "    \n",
    "    # Plot\n",
    "    plt.plot(times, isc, alpha=0.9,lw=3)\n",
    "    plt.axvline(x=0, color=\"black\", linestyle=\"--\",lw=2)\n",
    "    plt.axhline(y=0, color=\"black\",lw=2)\n",
    "    plt.xlabel('Time (ms)',fontdict={'family':'Arial', 'weight':'bold','size':25})\n",
    "    plt.ylabel('Intersubject similarity', fontdict={'family':'Arial', 'weight':'bold','size':25})\n",
    "    #plt.title(str(title),fontdict={'family':'Arial', 'weight':'bold','size':20})\n",
    "    plt.show()"
   ]
  },
  {
   "cell_type": "code",
   "execution_count": null,
   "metadata": {},
   "outputs": [],
   "source": [
    "# Construct timeseries\n",
    "times = np.arange(-200, 800, 2)\n",
    "plot_eegisc(ep_simi.mean(axis=1), times, title='')\n",
    "plot_eegisc(ep_simi.mean(axis=1), times, title='')"
   ]
  },
  {
   "cell_type": "markdown",
   "metadata": {},
   "source": [
    "### Section 3: Intersubject similarity analysis\n",
    "\n",
    "In this section, we will examine how individual variation in LexTALE modulate the individual differences in neural representation of english words\n",
    "Four conditions\n",
    "* English priming people-related\n",
    "* English priming peope-unrelated\n",
    "* English control people-related\n",
    "* English control peope-unrelated"
   ]
  },
  {
   "cell_type": "code",
   "execution_count": null,
   "metadata": {},
   "outputs": [],
   "source": [
    "# Obtain the lower traingle of the behav intersubject similarity matrix\n",
    "# Two methods: AnnK and NN\n",
    "lex_simi_annk = get_tril_vec(annk_lex)\n",
    "lex_simi_nn = get_tril_vec(nn_lex)"
   ]
  },
  {
   "cell_type": "code",
   "execution_count": null,
   "metadata": {},
   "outputs": [],
   "source": [
    "def morbi_isrsa(i,neural_isc,lex_isc):\n",
    "    r = spearmanr(neural_isc[i,:],lex_isc)\n",
    "    p = permutation_corr(neural_isc[i,:],lex_isc, method='spearman', iter=10000)\n",
    "    return dict(isc_r = r,isc_p = p)"
   ]
  },
  {
   "cell_type": "code",
   "execution_count": null,
   "metadata": {},
   "outputs": [],
   "source": [
    "ep_result = Parallel(n_jobs=8)(delayed(morbi_isrsa)(i,ep_simi,lex_simi_annk) for i in range(500))\n",
    "ec_result = Parallel(n_jobs=8)(delayed(morbi_isrsa)(i,ec_simi,lex_simi_annk) for i in range(500))"
   ]
  },
  {
   "cell_type": "code",
   "execution_count": null,
   "metadata": {},
   "outputs": [],
   "source": [
    "ep_r,ep_p = [],[]\n",
    "for i in range(500):\n",
    "    ep_r.append(ep_result[i]['isc_r'])\n",
    "    ep_p.append(ep_result[i]['isc_p'])\n",
    "\n",
    "ec_r,ec_p = [],[]\n",
    "for i in range(500):\n",
    "    ec_r.append(ec_result[i]['isc_r'])\n",
    "    ec_p.append(ec_result[i]['isc_p'])\n",
    "\n",
    "isrsa_df = pd.DataFrame({'ep_r':ep_r, 'ep_p':ep_p, 'ec_r':ec_r,'ec_p':ec_p})\n",
    "isrsa_df.to_csv(os.path.join(results_path,'isrsa.csv'))"
   ]
  },
  {
   "cell_type": "markdown",
   "metadata": {},
   "source": [
    "Plot the IS-RSA results"
   ]
  },
  {
   "cell_type": "code",
   "execution_count": null,
   "metadata": {},
   "outputs": [],
   "source": [
    "isrsa_df = pd.read_csv(os.path.join(results_path,'isrsa.csv'))"
   ]
  },
  {
   "cell_type": "code",
   "execution_count": null,
   "metadata": {},
   "outputs": [],
   "source": [
    "## Plot the IS-RSA r value\n",
    "plt.figure(figsize=(20,12))\n",
    "ax = plt.axes()\n",
    "ax.spines['top'].set_visible(False)\n",
    "ax.spines['right'].set_visible(False)\n",
    "ax.spines['bottom'].set_color('black')\n",
    "ax.spines['left'].set_color('black')\n",
    "ax.spines['bottom'].set_linewidth(3)\n",
    "ax.spines['left'].set_linewidth(3)\n",
    "plt.tick_params(direction='in',length=10,width=3,labelsize=20)\n",
    "plt.xlim(-200,800)\n",
    "plt.ylim(-0.15,0.2)\n",
    "plt.grid()\n",
    "\n",
    "# Plot the r value\n",
    "plt.plot(times, isrsa_df['ep_r'], label='English priming condition',alpha=0.9,lw=4)\n",
    "plt.axvline(x=0, color=\"black\", linestyle=\"--\",lw=2)\n",
    "plt.axhline(y=0, color=\"black\",lw=2)\n",
    "plt.xlabel('Time (ms)',fontdict={'family':'Arial', 'weight':'bold','size':25})\n",
    "plt.ylabel('Spearman \\u03C1', fontdict={'family':'Arial', 'weight':'bold','size':25})\n",
    "plt.legend(loc='best', prop={'family':'Arial', 'size':20})\n",
    "#plt.title('Intersubejct representational similarity of LexTALE & ERP',fontdict={'family':'Arial', 'weight':'bold','size':20})\n",
    "plt.savefig(os.path.join(plot_path,'isrsa_ep.png'),bbox_inches='tight',dpi=600,pad_inches=0.1)\n",
    "plt.show()"
   ]
  },
  {
   "cell_type": "code",
   "execution_count": null,
   "metadata": {},
   "outputs": [],
   "source": [
    "## Plot the IS-RSA r value\n",
    "plt.figure(figsize=(20,12))\n",
    "ax = plt.axes()\n",
    "ax.spines['top'].set_visible(False)\n",
    "ax.spines['right'].set_visible(False)\n",
    "ax.spines['bottom'].set_color('black')\n",
    "ax.spines['left'].set_color('black')\n",
    "ax.spines['bottom'].set_linewidth(3)\n",
    "ax.spines['left'].set_linewidth(3)\n",
    "plt.tick_params(direction='in',length=10,width=3,labelsize=20)\n",
    "plt.xlim(-200,800)\n",
    "plt.ylim(0,0.05)\n",
    "plt.grid()\n",
    "\n",
    "# Plot the r value\n",
    "plt.plot(times, isrsa_df['ep_p'], label='English priming condition',alpha=0.9,lw=4)\n",
    "plt.axvline(x=0, color=\"black\", linestyle=\"--\",lw=2)\n",
    "plt.axhline(y=0, color=\"black\",lw=2)\n",
    "plt.xlabel('Time (ms)',fontdict={'family':'Arial', 'weight':'bold','size':25})\n",
    "plt.ylabel('Spearman \\u03C1', fontdict={'family':'Arial', 'weight':'bold','size':25})\n",
    "plt.legend(loc='best', prop={'family':'Arial', 'size':20})\n",
    "plt.show()"
   ]
  },
  {
   "cell_type": "code",
   "execution_count": null,
   "metadata": {},
   "outputs": [],
   "source": [
    "## Plot the IS-RSA r value\n",
    "plt.figure(figsize=(20,12))\n",
    "ax = plt.axes()\n",
    "ax.spines['top'].set_visible(False)\n",
    "ax.spines['right'].set_visible(False)\n",
    "ax.spines['bottom'].set_color('black')\n",
    "ax.spines['left'].set_color('black')\n",
    "ax.spines['bottom'].set_linewidth(3)\n",
    "ax.spines['left'].set_linewidth(3)\n",
    "plt.tick_params(direction='in',length=10,width=3,labelsize=20)\n",
    "plt.xlim(-200,800)\n",
    "plt.ylim(-0.2,0.2)\n",
    "plt.grid()\n",
    "\n",
    "# Plot the r value\n",
    "plt.plot(times, isrsa_df['ec_r'],label='English control condition',alpha=0.9,lw=4, c='#F25757')\n",
    "plt.axvline(x=0, color=\"black\", linestyle=\"--\",lw=2)\n",
    "plt.axhline(y=0, color=\"black\",lw=2)\n",
    "plt.xlabel('Time (ms)',fontdict={'family':'Arial', 'weight':'bold','size':25})\n",
    "plt.ylabel('Spearman \\u03C1', fontdict={'family':'Arial', 'weight':'bold','size':25})\n",
    "plt.legend(loc='best', prop={'family':'Arial', 'size':20})\n",
    "#plt.title('Intersubejct representational similarity of LexTALE & ERP',fontdict={'family':'Arial', 'weight':'bold','size':20})\n",
    "plt.savefig(os.path.join(plot_path,'isrsa_ec.png'),bbox_inches='tight',dpi=600,pad_inches=0.1)\n",
    "plt.show()"
   ]
  },
  {
   "cell_type": "code",
   "execution_count": null,
   "metadata": {},
   "outputs": [],
   "source": [
    "## Plot the IS-RSA r value\n",
    "plt.figure(figsize=(20,12))\n",
    "ax = plt.axes()\n",
    "ax.spines['top'].set_visible(False)\n",
    "ax.spines['right'].set_visible(False)\n",
    "ax.spines['bottom'].set_color('black')\n",
    "ax.spines['left'].set_color('black')\n",
    "ax.spines['bottom'].set_linewidth(3)\n",
    "ax.spines['left'].set_linewidth(3)\n",
    "plt.tick_params(direction='in',length=10,width=3,labelsize=20)\n",
    "plt.xlim(-200,800)\n",
    "plt.ylim(0,0.05)\n",
    "plt.grid()\n",
    "\n",
    "# Plot the r value\n",
    "plt.plot(times, isrsa_df['ec_p'],label='English control condition',alpha=0.9,lw=4, c='#F25757')\n",
    "plt.axvline(x=0, color=\"black\", linestyle=\"--\",lw=2)\n",
    "plt.axhline(y=0, color=\"black\",lw=2)\n",
    "plt.xlabel('Time (ms)',fontdict={'family':'Arial', 'weight':'bold','size':25})\n",
    "plt.ylabel('Spearman \\u03C1', fontdict={'family':'Arial', 'weight':'bold','size':25})\n",
    "plt.legend(loc='best', prop={'family':'Arial', 'size':20})\n",
    "plt.show()"
   ]
  }
 ],
 "metadata": {
  "interpreter": {
   "hash": "0637cefd005ce32f53abe336a7c6e0206dbf0dc1ed7f0aa326c4767b89ff415c"
  },
  "kernelspec": {
   "display_name": "Python 3.8.11 ('EEG')",
   "language": "python",
   "name": "python3"
  },
  "language_info": {
   "codemirror_mode": {
    "name": "ipython",
    "version": 3
   },
   "file_extension": ".py",
   "mimetype": "text/x-python",
   "name": "python",
   "nbconvert_exporter": "python",
   "pygments_lexer": "ipython3",
   "version": "3.8.11"
  },
  "orig_nbformat": 4
 },
 "nbformat": 4,
 "nbformat_minor": 2
}

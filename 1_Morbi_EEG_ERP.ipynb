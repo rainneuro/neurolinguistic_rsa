{
 "cells": [
  {
   "cell_type": "markdown",
   "metadata": {},
   "source": [
    "## Script for Morbi EEG project ERP analysis"
   ]
  },
  {
   "cell_type": "code",
   "execution_count": null,
   "metadata": {},
   "outputs": [],
   "source": [
    "%matplotlib inline\n",
    "import os\n",
    "import mne\n",
    "from mne.time_frequency import tfr_morlet, psd_multitaper, psd_welch, psd_array_multitaper\n",
    "from mne.viz import plot_topomap\n",
    "from scipy.stats import ttest_1samp, ttest_ind, ttest_rel, f_oneway\n",
    "from mne.stats import fdr_correction, f_mway_rm, permutation_cluster_test\n",
    "import pandas as pd\n",
    "import numpy as np\n",
    "import matplotlib.pyplot as plt\n",
    "import seaborn as sns\n",
    "from jupyterthemes import jtplot\n",
    "jtplot.style(theme='grade3')\n",
    "\n",
    "data_path = 'E:/Bilingual_Morphology_Project/Data/EEG_prep'\n",
    "plot_path = 'E:/Bilingual_Morphology_Project/Results/Plot'\n",
    "sub_list = list(range(5,35))\n",
    "mark_list = list(range(2,10))"
   ]
  },
  {
   "cell_type": "markdown",
   "metadata": {},
   "source": [
    "## Section 1: Meta data import and channel location"
   ]
  },
  {
   "cell_type": "code",
   "execution_count": null,
   "metadata": {},
   "outputs": [],
   "source": [
    "demo = mne.read_epochs_eeglab('E:/Bilingual_Morphology_Project/Data/EEG_prep/S31_09.set')\n",
    "montage_file = 'E:/Bilingual_Morphology_Project/Scripts/morbi.loc'\n",
    "montage = mne.channels.read_custom_montage(montage_file)\n",
    "demo.set_montage(montage)\n",
    "\n",
    "eeg_meta = {}\n",
    "for sub in sub_list:\n",
    "    conditions = {}\n",
    "    for mark in mark_list:\n",
    "        tp = mne.read_epochs_eeglab(os.path.join(data_path, 'S' + str(sub) + '_0'+ str(mark) + '.set'))\n",
    "        tp.set_montage(montage)\n",
    "        conditions[mark] = tp\n",
    "    eeg_meta[sub] = conditions"
   ]
  },
  {
   "cell_type": "code",
   "execution_count": null,
   "metadata": {},
   "outputs": [],
   "source": [
    "# Channel indexing\n",
    "# Obtain the channel names as a list\n",
    "ch_names = eeg_meta[5][2].ch_names\n",
    "print(ch_names)\n",
    "# Crate a index list for channels\n",
    "ch_idx = list(range(31))\n",
    "# Combine the channels and index and convert to a dict\n",
    "ch_num = dict(zip(ch_names, ch_idx))\n",
    "print(ch_num['PO9'])"
   ]
  },
  {
   "cell_type": "markdown",
   "metadata": {},
   "source": [
    "## Section 2: ERP analysis"
   ]
  },
  {
   "cell_type": "markdown",
   "metadata": {},
   "source": [
    "### Functions for ERP analysis"
   ]
  },
  {
   "cell_type": "code",
   "execution_count": null,
   "metadata": {},
   "outputs": [],
   "source": [
    "# Function for plotting erp wave of single condition\n",
    "def plot_erp(erp, times, con_labels, title):\n",
    "    n_subjects = np.shape(erp)[0]\n",
    "    avg = np.average(erp, axis=0)\n",
    "    err = np.std(erp, axis=0, ddof=0)/np.sqrt(n_subjects)\n",
    "    ##Plotting parameters\n",
    "    plt.figure()\n",
    "    ax = plt.axes()\n",
    "    ax.spines['top'].set_visible(False)\n",
    "    ax.spines['right'].set_visible(False)\n",
    "    ax.spines['bottom'].set_color('black')\n",
    "    ax.spines['left'].set_color('black')\n",
    "    ax.spines['bottom'].set_linewidth(3)\n",
    "    ax.spines['left'].set_linewidth(3)\n",
    "    plt.gca().invert_yaxis()\n",
    "    plt.tick_params(direction='in',length=10,width=3,labelsize=20)\n",
    "    plt.xlim(-200,800)\n",
    "    plt.ylim(6,-8)\n",
    "    plt.grid()\n",
    "    \n",
    "    # Plot\n",
    "    plt.fill_between(times, avg+err, avg-err, alpha=0.2)\n",
    "    plt.plot(times, avg, alpha=0.9, label=con_labels,lw=3)\n",
    "    plt.axhline(y=0, color=\"black\",lw=2)\n",
    "    plt.axvline(x=0, color=\"black\", linestyle=\"--\",lw=2)\n",
    "    plt.xlabel('Time (ms)',fontdict={'family':'Arial', 'weight':'bold','size':25})\n",
    "    plt.ylabel('Amplitude ($\\mu$V)', fontdict={'family':'Arial', 'weight':'bold','size':25})\n",
    "    plt.title(str(title),fontdict={'family':'Arial', 'weight':'bold','size':30})\n",
    "    plt.legend(loc='best', prop={'family':'Arial', 'size':20})\n",
    "    plt.show()"
   ]
  },
  {
   "cell_type": "code",
   "execution_count": null,
   "metadata": {},
   "outputs": [],
   "source": [
    "def plot_erp_comparison(erp1, erp2, times, con_labels=['Condition1', 'Condition2'], p_threshold=0.05):\n",
    "    n_subjects = np.shape(erp1)[0]\n",
    "    avg1 = np.average(erp1, axis=0)\n",
    "    avg2 = np.average(erp2, axis=0)\n",
    "    err1 = np.std(erp1, axis=0, ddof=0)/np.sqrt(n_subjects)\n",
    "    err2 = np.std(erp2, axis=0, ddof=0)/np.sqrt(n_subjects)\n",
    "    \n",
    "    # Statistics\n",
    "    t_vals, p_vals = ttest_rel(erp1, erp2, axis=0)\n",
    "    # FDR multiple comariosn correction\n",
    "    rejects, p_fdr_corrected = fdr_correction(p_vals, alpha=p_threshold)\n",
    "    # Deleneate the significant windows\n",
    "    for i, p_val in enumerate(p_vals):\n",
    "        if p_val < 0.05:\n",
    "            plt.axvline(x=times[i], color='grey', alpha=0.2)\n",
    "    \n",
    "    plt.fill_between(times, avg1+err1, avg1-err1, alpha=0.2, label=con_labels[0])\n",
    "    plt.fill_between(times, avg2+err2, avg2-err2, alpha=0.2, label=con_labels[1])\n",
    "    plt.plot(times, avg1, alpha=0.9)\n",
    "    plt.plot(times, avg2, alpha=0.9)\n",
    "    plt.axhline(y=0, color=\"black\",lw=2)\n",
    "    plt.axvline(x=0, color=\"black\", linestyle=\"--\",lw=2)\n",
    "    plt.xlim(-200,800)\n",
    "    plt.gca().invert_yaxis()\n",
    "    plt.xlabel('Time (ms)')\n",
    "    plt.ylabel('Amplitude ($\\mu$V)')\n",
    "    plt.legend()\n",
    "    plt.show()"
   ]
  },
  {
   "cell_type": "markdown",
   "metadata": {},
   "source": [
    "### Obtain the data array and ERP"
   ]
  },
  {
   "cell_type": "code",
   "execution_count": null,
   "metadata": {},
   "outputs": [],
   "source": [
    "cp_meta, cc_meta, ep_meta, ec_meta= {}, {}, {}, {}\n",
    "for sub in sub_list:\n",
    "    epoch = eeg_meta[sub]\n",
    "    # Convert data to numpy array\n",
    "    cp = np.concatenate([epoch[2].get_data(),epoch[3].get_data()],axis=0)*10**6  # Chinese priming condition\n",
    "    cc = np.concatenate([epoch[4].get_data(),epoch[5].get_data()],axis=0)*10**6  # Chinese control condition\n",
    "    ep = np.concatenate([epoch[6].get_data(),epoch[7].get_data()],axis=0)*10**6  # English priming condition\n",
    "    ec = np.concatenate([epoch[9].get_data(),epoch[8].get_data()],axis=0)*10**6  # English control condition\n",
    "    cp_meta[sub], cc_meta[sub], ep_meta[sub], ec_meta[sub] = cp, cc, ep, ec\n",
    "\n",
    "\n",
    "# ERP data structure: [n_channels, n_sub, n_times]\n",
    "cp_erp, cc_erp, ep_erp, ec_erp = np.zeros([31,30,500]), np.zeros([31,30,500]), np.zeros([31,30,500]), np.zeros([31,30,500])\n",
    "# Loop across all channels and subjects\n",
    "for ch in ch_idx:\n",
    "    for sub in sub_list:\n",
    "        cp_erp[ch,sub-5,:] = np.average(cp_meta[sub][:,ch,:], axis=0)\n",
    "        cc_erp[ch,sub-5,:] = np.average(cc_meta[sub][:,ch,:], axis=0)\n",
    "        ep_erp[ch,sub-5,:] = np.average(ep_meta[sub][:,ch,:], axis=0)\n",
    "        ec_erp[ch,sub-5,:] = np.average(ec_meta[sub][:,ch,:], axis=0)\n"
   ]
  },
  {
   "cell_type": "markdown",
   "metadata": {},
   "source": [
    "### Plot Demo"
   ]
  },
  {
   "cell_type": "code",
   "execution_count": null,
   "metadata": {},
   "outputs": [],
   "source": [
    "# Construct timeseries\n",
    "times = np.arange(-200, 800, 2)\n",
    "plot_erp(cp_erp[4,:,:], times, con_labels='Chinese Priming', title='')"
   ]
  },
  {
   "cell_type": "markdown",
   "metadata": {},
   "source": [
    "## Section 3: Mass-univariate ANOVA for ERP"
   ]
  },
  {
   "cell_type": "markdown",
   "metadata": {},
   "source": [
    "### 3.1 Single channel ERP"
   ]
  },
  {
   "cell_type": "code",
   "execution_count": null,
   "metadata": {},
   "outputs": [],
   "source": [
    "factor_levels = [2, 2]\n",
    "times = np.arange(-200, 800, 2)\n",
    "\n",
    "for ch in ch_idx:\n",
    "    reshaped_A1B1 = cp_erp[ch,:,:].reshape(30, 1, 500)\n",
    "    reshaped_A1B2 = cc_erp[ch,:,:].reshape(30, 1, 500)\n",
    "    reshaped_A2B1 = ep_erp[ch,:,:].reshape(30, 1, 500)\n",
    "    reshaped_A2B2 = ec_erp[ch,:,:].reshape(30, 1, 500)\n",
    "\n",
    "    # Concatenate the data as structure (A1B1、A1B2、A2B1、A2B2)\n",
    "    data_combine = np.concatenate((reshaped_A1B1, reshaped_A1B2, reshaped_A2B1, reshaped_A2B2), axis=1)\n",
    "    \n",
    "    # f_mway_rm for repeated measure ANOVA analysis\n",
    "    # Main effect of A\n",
    "    f_main_A, p_main_A = f_mway_rm(data_combine, factor_levels, effects='A')\n",
    "    # Main effect of B\n",
    "    f_main_B, p_main_B = f_mway_rm(data_combine, factor_levels, effects='B')\n",
    "    # Interaction effect \n",
    "    f_inter, p_interaction = f_mway_rm(data_combine, factor_levels, effects='A:B')\n",
    "    # FDR correction\n",
    "    rejects_A, p_main_A = fdr_correction(p_main_A, alpha=0.05)\n",
    "    rejects_B, p_main_B = fdr_correction(p_main_B, alpha=0.05)\n",
    "    rejects_inter, p_interaction = fdr_correction(p_interaction, alpha=0.05)\n",
    "    \n",
    "    #Plotting parameters\n",
    "    plt.figure()\n",
    "    ax = plt.axes()\n",
    "    ax.spines['top'].set_visible(False)\n",
    "    ax.spines['right'].set_visible(False)\n",
    "    ax.spines['bottom'].set_color('black')\n",
    "    ax.spines['left'].set_color('black')\n",
    "    ax.spines['bottom'].set_linewidth(3)\n",
    "    ax.spines['left'].set_linewidth(3)\n",
    "    plt.gca().invert_yaxis()\n",
    "    plt.tick_params(direction='in',length=10,width=3,labelsize=20)\n",
    "    plt.xlim(-200,800)\n",
    "    plt.ylim(6,-8)\n",
    "    plt.grid()\n",
    "    \n",
    "    # Plot\n",
    "    plt.plot(times, np.average(cp_erp[ch,:,:], axis=0), label='Chinese priming',lw=3)\n",
    "    plt.plot(times, np.average(cc_erp[ch,:,:], axis=0), label='Chinese control',lw=3)\n",
    "    plt.plot(times, np.average(ep_erp[ch,:,:], axis=0), label='English priming',lw=3)\n",
    "    plt.plot(times, np.average(ec_erp[ch,:,:], axis=0), label='English control',lw=3)\n",
    "    plt.axhline(y=0, color=\"black\",lw=2)\n",
    "    plt.axvline(x=0, color=\"black\", linestyle=\"--\",lw=2)\n",
    "    plt.xlabel('Time (ms)',fontdict={'family':'Arial', 'weight':'bold','size':25})\n",
    "    plt.ylabel('Amplitude ($\\mu$V)', fontdict={'family':'Arial', 'weight':'bold','size':25})\n",
    "    plt.legend(loc='best', prop={'family':'Arial', 'size':20})\n",
    "    \n",
    "    # Annotate the significant time-window\n",
    "    for i in range(250):\n",
    "        if p_main_A[i] < 0.05:\n",
    "            plt.axvline(x=times[i], ymin=0, color='blue', alpha=0.3)\n",
    "        if p_main_B[i] < 0.05:\n",
    "            plt.axvline(x=times[i], ymin=0, color='black', alpha=0.3)\n",
    "        if p_interaction[i] < 0.05:\n",
    "            plt.axvline(x=times[i], ymin=0, color='red', alpha=0.3)\n",
    "    \n",
    "    \n",
    "    plt.savefig(os.path.join(plot_path, 'singch_erp', ch_names[ch] + '.png'))\n",
    "    plt.close()\n",
    "    plt.show()"
   ]
  },
  {
   "cell_type": "markdown",
   "metadata": {},
   "source": [
    "Significant electrodes\n",
    "* P250: F4, F8, O1, O2, Oz, P7, PO9, PO10 () 220-300"
   ]
  },
  {
   "cell_type": "markdown",
   "metadata": {},
   "source": [
    "### 3.2 ROI based : Right frontal P250"
   ]
  },
  {
   "cell_type": "code",
   "execution_count": null,
   "metadata": {},
   "outputs": [],
   "source": [
    "factor_levels = [2, 2]\n",
    "times = np.arange(-200, 800, 4)\n",
    "# right frontal ROI index\n",
    "rf_roi = [1,5,6,9,10]\n",
    "\n",
    "# Data averaging\n",
    "reshaped_A1B1 = np.average(cp_erp[rf_roi,:,:], axis=0).reshape(30, 1, 250)\n",
    "reshaped_A1B2 = np.average(cc_erp[rf_roi,:,:], axis=0).reshape(30, 1, 250)\n",
    "reshaped_A2B1 = np.average(ep_erp[rf_roi,:,:], axis=0).reshape(30, 1, 250)\n",
    "reshaped_A2B2 = np.average(ec_erp[rf_roi,:,:], axis=0).reshape(30, 1, 250)\n",
    "\n",
    "# Concatenate the data as structure (A1B1、A1B2、A2B1、A2B2)\n",
    "data_combine = np.concatenate((reshaped_A1B1, reshaped_A1B2, reshaped_A2B1, reshaped_A2B2), axis=1)\n",
    "    \n",
    "# f_mway_rm for repeated measure ANOVA analysis\n",
    "# Main effect of A\n",
    "f_main_A, p_main_A = f_mway_rm(data_combine, factor_levels, effects='A')\n",
    "# FDR correction\n",
    "rejects_A, p_main_A = fdr_correction(p_main_A, alpha=0.05)\n",
    "\n",
    "# Plotting parameters\n",
    "plt.figure(figsize=(30,10))\n",
    "ax = plt.axes()\n",
    "ax.spines['top'].set_visible(False)\n",
    "ax.spines['right'].set_visible(False)\n",
    "ax.spines['bottom'].set_color('black')\n",
    "ax.spines['left'].set_color('black')\n",
    "ax.spines['bottom'].set_linewidth(2)\n",
    "ax.spines['left'].set_linewidth(2)\n",
    "plt.gca().invert_yaxis()\n",
    "plt.tick_params(direction='in',length=10)\n",
    "plt.xlim(-200,800)\n",
    "plt.grid()\n",
    "\n",
    "# Plot\n",
    "plt.plot(times, np.average(np.average(cp_erp[rf_roi,:,:], axis=0),axis=0), label='Chinese priming',linewidth=2)\n",
    "plt.plot(times, np.average(np.average(cc_erp[rf_roi,:,:], axis=0),axis=0), label='Chinese control',linewidth=2)\n",
    "plt.plot(times, np.average(np.average(ep_erp[rf_roi,:,:], axis=0),axis=0), label='English priming',linewidth=2)\n",
    "plt.plot(times, np.average(np.average(ec_erp[rf_roi,:,:], axis=0),axis=0), label='English control',linewidth=2)\n",
    "plt.axhline(y=0, color=\"black\")\n",
    "plt.axvline(x=0, color=\"black\", linestyle=\"--\")\n",
    "plt.xlabel('Time (ms)')\n",
    "plt.ylabel('Amplitude ($\\mu$V)')\n",
    "plt.legend(fontsize=16,loc='best')\n",
    "#plt.title('Right Frontal')\n",
    "\n",
    "# Annotate the significant time-window\n",
    "# for i in range(250):\n",
    "#     if p_main_A[i] < 0.05:\n",
    "#         plt.axvline(x=times[i], ymin=0.01, ymax=0.1, color='blue', alpha=1)\n",
    "\n",
    "plt.savefig(os.path.join(plot_path, 'ROI_rightfrontal.png'))\n",
    "plt.close()\n",
    "#plt.show()"
   ]
  },
  {
   "cell_type": "markdown",
   "metadata": {},
   "source": [
    "### 3.4 Topoplot"
   ]
  },
  {
   "cell_type": "code",
   "execution_count": null,
   "metadata": {},
   "outputs": [],
   "source": [
    "demo.info"
   ]
  },
  {
   "cell_type": "code",
   "execution_count": null,
   "metadata": {},
   "outputs": [],
   "source": [
    "# Plot the \n",
    "\n",
    "topo = np.average(ep_erp[:,:,225],axis=1)\n",
    "fig,ax = plt.subplots()\n",
    "im,_ = plot_topomap(topo, demo.info, axes=ax, sensors='ko', show=False, sphere=0.13)    \n",
    "ax_x_start, ax_x_width, ax_y_start, ax_y_height  = 0.95, 0.04, 0.1, 0.9\n",
    "cbar_ax = fig.add_axes([ax_x_start, ax_y_start, ax_x_width, ax_y_height])\n",
    "clb = fig.colorbar(im, cax=cbar_ax)\n",
    "#plt.savefig(os.path.join(plot_dir + 'p250_ec.png'),bbox_inches='tight',dpi=300,pad_inches=0.1)\n",
    "#plt.close()"
   ]
  },
  {
   "cell_type": "code",
   "execution_count": null,
   "metadata": {},
   "outputs": [],
   "source": [
    "for i in np.linspace(0, 450, 10):\n",
    "    i = int(i)\n",
    "    topo = np.average(np.average(ec_erp[:,:,i:i+50], axis=2),axis=1)\n",
    "    fig,ax = plt.subplots()\n",
    "    im,_ = plot_topomap(topo, demo.info, axes=ax,cmap='RdBu_r', show=False,sphere=0.13)    \n",
    "    ax_x_start, ax_x_width, ax_y_start, ax_y_height  = 0.95, 0.04, 0.1, 0.9\n",
    "    cbar_ax = fig.add_axes([ax_x_start, ax_y_start, ax_x_width, ax_y_height])\n",
    "    clb = fig.colorbar(im, cax=cbar_ax)"
   ]
  },
  {
   "cell_type": "code",
   "execution_count": null,
   "metadata": {},
   "outputs": [],
   "source": [
    "# Plot the N400 topo\n",
    "n400_topo = np.average(np.average(ec_erp[:,:,140:152], axis=2),axis=1)\n",
    "fig,ax = plt.subplots()\n",
    "im,_ = plot_topomap(n400_topo, eeg_meta[1].info, axes=ax,cmap='RdBu_r', show=False,sphere=0.13)    \n",
    "ax_x_start, ax_x_width, ax_y_start, ax_y_height  = 0.95, 0.04, 0.1, 0.9\n",
    "cbar_ax = fig.add_axes([ax_x_start, ax_y_start, ax_x_width, ax_y_height])\n",
    "clb = fig.colorbar(im, cax=cbar_ax)\n",
    "plt.savefig(os.path.join(plot_path + 'n400_ec.png'),bbox_inches='tight',dpi=300,pad_inches=0.1)\n",
    "plt.close()"
   ]
  },
  {
   "cell_type": "code",
   "execution_count": null,
   "metadata": {},
   "outputs": [],
   "source": [
    "## P250 mean amplitude extraction (220-280 ms; 105:120)\n",
    "rf_p250 = np.concatenate((np.average(np.average(cp_erp[rf_roi,:,105:120], axis=0),axis=1),np.average(np.average(cc_erp[rf_roi,:,105:120], axis=0),axis=1),\n",
    "        np.average(np.average(ep_erp[rf_roi,:,105:120], axis=0),axis=1),np.average(np.average(ec_erp[rf_roi,:,105:120], axis=0),axis=1)), axis=0)\n",
    "## N400 mean amplitude extraction (360-410 ms; 140:152)\n",
    "fc_n400 = np.concatenate((np.average(np.average(cp_erp[fc_roi,:,140:152], axis=0),axis=1),np.average(np.average(cc_erp[fc_roi,:,140:152], axis=0),axis=1),\n",
    "        np.average(np.average(ep_erp[fc_roi,:,140:152], axis=0),axis=1),np.average(np.average(ec_erp[fc_roi,:,140:152], axis=0),axis=1)), axis=0)\n",
    "\n",
    "roi_erp = {'rf_p250':rf_p250, 'fc_n400':fc_n400}\n",
    "roi_erp = pd.DataFrame(roi_erp)\n",
    "roi_erp.to_csv('F:/3_Projects/1_Morbi_EEG_project/EEG/Statistics/ERP/Morbi_ERP_Stat.csv')"
   ]
  },
  {
   "cell_type": "code",
   "execution_count": null,
   "metadata": {},
   "outputs": [],
   "source": [
    "test =  np.concatenate((np.average(np.average(cp_erp[fc_roi,:,140:152], axis=0),axis=1).reshape(30,1),np.average(np.average(cc_erp[fc_roi,:,140:152], axis=0),axis=1).reshape(30,1),\n",
    "        np.average(np.average(ep_erp[fc_roi,:,140:152], axis=0),axis=1).reshape(30,1),np.average(np.average(ec_erp[fc_roi,:,140:152], axis=0),axis=1).reshape(30,1)), axis=1)"
   ]
  },
  {
   "cell_type": "code",
   "execution_count": null,
   "metadata": {},
   "outputs": [],
   "source": [
    "f_main_A, p_main_A = f_mway_rm(test, factor_levels, effects='A')\n",
    "p_main_A"
   ]
  }
 ],
 "metadata": {
  "interpreter": {
   "hash": "0637cefd005ce32f53abe336a7c6e0206dbf0dc1ed7f0aa326c4767b89ff415c"
  },
  "kernelspec": {
   "display_name": "Python 3.8.11 64-bit ('EEG': conda)",
   "name": "python3"
  },
  "language_info": {
   "codemirror_mode": {
    "name": "ipython",
    "version": 3
   },
   "file_extension": ".py",
   "mimetype": "text/x-python",
   "name": "python",
   "nbconvert_exporter": "python",
   "pygments_lexer": "ipython3",
   "version": "3.8.11"
  },
  "orig_nbformat": 4
 },
 "nbformat": 4,
 "nbformat_minor": 2
}
